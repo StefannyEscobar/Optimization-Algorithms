{
  "cells": [
    {
      "cell_type": "markdown",
      "metadata": {
        "id": "view-in-github",
        "colab_type": "text"
      },
      "source": [
        "<a href=\"https://colab.research.google.com/github/StefannyEscobar/Optimization-Algorithms/blob/main/ROPSIS.ipynb\" target=\"_parent\"><img src=\"https://colab.research.google.com/assets/colab-badge.svg\" alt=\"Open In Colab\"/></a>"
      ]
    },
    {
      "cell_type": "markdown",
      "metadata": {
        "id": "bmwJAM4uyJss"
      },
      "source": [
        "# Librerias"
      ]
    },
    {
      "cell_type": "code",
      "execution_count": null,
      "metadata": {
        "id": "bG32CyDWyJsy"
      },
      "outputs": [],
      "source": [
        "import pandas as pd\n",
        "import numpy as np\n",
        "import random\n",
        "import math"
      ]
    },
    {
      "cell_type": "markdown",
      "metadata": {
        "id": "egXiblL9yJs1"
      },
      "source": [
        "## Ingresamos la matriz de datos"
      ]
    },
    {
      "cell_type": "code",
      "execution_count": null,
      "metadata": {
        "id": "9sO-Bn_dyJs1",
        "outputId": "0901e82e-3f9b-43a8-895a-8e0a5164fb23"
      },
      "outputs": [
        {
          "data": {
            "text/html": [
              "<div>\n",
              "<style scoped>\n",
              "    .dataframe tbody tr th:only-of-type {\n",
              "        vertical-align: middle;\n",
              "    }\n",
              "\n",
              "    .dataframe tbody tr th {\n",
              "        vertical-align: top;\n",
              "    }\n",
              "\n",
              "    .dataframe thead th {\n",
              "        text-align: right;\n",
              "    }\n",
              "</style>\n",
              "<table border=\"1\" class=\"dataframe\">\n",
              "  <thead>\n",
              "    <tr style=\"text-align: right;\">\n",
              "      <th></th>\n",
              "      <th>c1</th>\n",
              "      <th>c2</th>\n",
              "      <th>c3</th>\n",
              "      <th>c4</th>\n",
              "      <th>c5</th>\n",
              "      <th>c6</th>\n",
              "      <th>c7</th>\n",
              "      <th>c8</th>\n",
              "      <th>c9</th>\n",
              "      <th>c10</th>\n",
              "    </tr>\n",
              "  </thead>\n",
              "  <tbody>\n",
              "    <tr>\n",
              "      <th>A1</th>\n",
              "      <td>7</td>\n",
              "      <td>15</td>\n",
              "      <td>12</td>\n",
              "      <td>34</td>\n",
              "      <td>9</td>\n",
              "      <td>2</td>\n",
              "      <td>5</td>\n",
              "      <td>8</td>\n",
              "      <td>40</td>\n",
              "      <td>17</td>\n",
              "    </tr>\n",
              "    <tr>\n",
              "      <th>A2</th>\n",
              "      <td>5</td>\n",
              "      <td>14</td>\n",
              "      <td>20</td>\n",
              "      <td>26</td>\n",
              "      <td>9</td>\n",
              "      <td>2</td>\n",
              "      <td>4</td>\n",
              "      <td>15</td>\n",
              "      <td>22</td>\n",
              "      <td>16</td>\n",
              "    </tr>\n",
              "    <tr>\n",
              "      <th>A3</th>\n",
              "      <td>11</td>\n",
              "      <td>19</td>\n",
              "      <td>21</td>\n",
              "      <td>31</td>\n",
              "      <td>1</td>\n",
              "      <td>11</td>\n",
              "      <td>4</td>\n",
              "      <td>42</td>\n",
              "      <td>14</td>\n",
              "      <td>18</td>\n",
              "    </tr>\n",
              "    <tr>\n",
              "      <th>A4</th>\n",
              "      <td>13</td>\n",
              "      <td>1</td>\n",
              "      <td>24</td>\n",
              "      <td>27</td>\n",
              "      <td>35</td>\n",
              "      <td>6</td>\n",
              "      <td>1</td>\n",
              "      <td>5</td>\n",
              "      <td>4</td>\n",
              "      <td>2</td>\n",
              "    </tr>\n",
              "  </tbody>\n",
              "</table>\n",
              "</div>"
            ],
            "text/plain": [
              "    c1  c2  c3  c4  c5  c6  c7  c8  c9  c10\n",
              "A1   7  15  12  34   9   2   5   8  40   17\n",
              "A2   5  14  20  26   9   2   4  15  22   16\n",
              "A3  11  19  21  31   1  11   4  42  14   18\n",
              "A4  13   1  24  27  35   6   1   5   4    2"
            ]
          },
          "execution_count": 3,
          "metadata": {},
          "output_type": "execute_result"
        }
      ],
      "source": [
        "alternatives = np.array([[7,15,12,34,9,2,5,8,40,17]\n",
        ",[5,14,20,26,9,2,4,15,22,16],\n",
        "[11,19,21,31,1,11,4,42,14,18],\n",
        "[13,1,24,27,35,6,1,5,4,2]])\n",
        "#Convertimos los datos de entrada en una matriz\n",
        "pd_alter = pd.DataFrame(data = alternatives,\n",
        "                        index = ['A1','A2', 'A3', 'A4'],\n",
        "                        columns=['c1', 'c2', 'c3', 'c4', 'c5', 'c6', 'c7', 'c8', 'c9', 'c10'])\n",
        "pd_alter"
      ]
    },
    {
      "cell_type": "markdown",
      "metadata": {
        "id": "IPlry-htyJs3"
      },
      "source": [
        "# <center> Punto 1B\n",
        "\n",
        "### Implementación TOPSIS\n",
        "#### <span style=\"color:Blue\"> Paso 1:\n",
        "\n",
        "$En\\ primer\\ lugar\\ le\\ damos\\ los\\ pesos\\ a\\ cada\\ criterio\\ para\\ construir\\ la\\ matriz\\ de\\ desión$\n",
        "\n",
        "Para esto se decidio hacerlo de manera aleatoria ya que no se tiene preferencia sobre ninguna"
      ]
    },
    {
      "cell_type": "code",
      "execution_count": null,
      "metadata": {
        "id": "JNpRS3rKyJs3",
        "outputId": "fb2a3627-f76a-43ee-bd0b-54b3862dd19e"
      },
      "outputs": [
        {
          "data": {
            "text/plain": [
              "[0.04533196847168458,\n",
              " 0.20211753451957865,\n",
              " 0.0039786813985698815,\n",
              " 0.06705992987236878,\n",
              " 0.11682983458161329,\n",
              " 0.09817681935923595,\n",
              " 0.18296157929117277,\n",
              " 0.0014351268712127258,\n",
              " 0.25259855852015856,\n",
              " 0.029509967114404883]"
            ]
          },
          "execution_count": 4,
          "metadata": {},
          "output_type": "execute_result"
        }
      ],
      "source": [
        "n = 10\n",
        "nums = [random.random() for _ in range(n)]\n",
        "suma = sum(nums)\n",
        "weigth = [num/suma for num in nums]\n",
        "weigth"
      ]
    },
    {
      "cell_type": "markdown",
      "metadata": {
        "id": "YCYcVtyOyJs4"
      },
      "source": [
        "#### <span style=\"color:Blue\"> Paso 3:\n",
        "\n",
        "$Construir\\ la\\ matriz\\ de\\ decisión\\ $\n",
        "$donde:$\n",
        "La norma para $p=2$\n",
        "$$v_{ij}= \\frac{r_{ij}}{\\sqrt{\\sum_{i=1}^m(r_{ij})^2}}, \\forall j = 1,2,...,n$$\n"
      ]
    },
    {
      "cell_type": "markdown",
      "metadata": {
        "id": "dwe6TE5VyJs5"
      },
      "source": [
        "## Norma P = 2"
      ]
    },
    {
      "cell_type": "code",
      "execution_count": null,
      "metadata": {
        "id": "c4vYkhqOyJs6",
        "outputId": "cf0b51f6-087c-42e6-aea7-2b6cc355fec9"
      },
      "outputs": [
        {
          "data": {
            "text/plain": [
              "[19.078784028338912,\n",
              " 33.8673884437522,\n",
              " 52.03844732503075,\n",
              " 78.93034904268447,\n",
              " 87.28115489611719,\n",
              " 88.22131261775694,\n",
              " 88.54942122905152,\n",
              " 99.5941765365827,\n",
              " 110.52149112276761,\n",
              " 114.40279716860073]"
            ]
          },
          "execution_count": 37,
          "metadata": {},
          "output_type": "execute_result"
        }
      ],
      "source": [
        "def vecnorm(mat):\n",
        "    sizes  = np.shape(mat)\n",
        "    m = sizes[0]\n",
        "    n = sizes[1]\n",
        "    v = []\n",
        "    normas = []\n",
        "    for j in range(n):\n",
        "        for i in range(m):\n",
        "            r = (mat[i][j])**2\n",
        "            v.append(r)\n",
        "        vals = np.sqrt(sum(v))\n",
        "        normas.append(vals)\n",
        "    return normas\n",
        "vector_Normalized = vecnorm(alternatives)\n",
        "vector_Normalized"
      ]
    },
    {
      "cell_type": "code",
      "execution_count": null,
      "metadata": {
        "id": "_Vfqf7X6yJs7",
        "outputId": "e7e0a38f-f996-4b8d-d20b-7998ab0ac93d"
      },
      "outputs": [
        {
          "data": {
            "text/html": [
              "<div>\n",
              "<style scoped>\n",
              "    .dataframe tbody tr th:only-of-type {\n",
              "        vertical-align: middle;\n",
              "    }\n",
              "\n",
              "    .dataframe tbody tr th {\n",
              "        vertical-align: top;\n",
              "    }\n",
              "\n",
              "    .dataframe thead th {\n",
              "        text-align: right;\n",
              "    }\n",
              "</style>\n",
              "<table border=\"1\" class=\"dataframe\">\n",
              "  <thead>\n",
              "    <tr style=\"text-align: right;\">\n",
              "      <th></th>\n",
              "      <th>c1</th>\n",
              "      <th>c2</th>\n",
              "      <th>c3</th>\n",
              "      <th>c4</th>\n",
              "      <th>c5</th>\n",
              "      <th>c6</th>\n",
              "      <th>c7</th>\n",
              "      <th>c8</th>\n",
              "      <th>c9</th>\n",
              "      <th>c10</th>\n",
              "    </tr>\n",
              "  </thead>\n",
              "  <tbody>\n",
              "    <tr>\n",
              "      <th>A1</th>\n",
              "      <td>0.366900</td>\n",
              "      <td>0.442904</td>\n",
              "      <td>0.230599</td>\n",
              "      <td>0.430760</td>\n",
              "      <td>0.103115</td>\n",
              "      <td>0.022670</td>\n",
              "      <td>0.056466</td>\n",
              "      <td>0.080326</td>\n",
              "      <td>0.361921</td>\n",
              "      <td>0.148598</td>\n",
              "    </tr>\n",
              "    <tr>\n",
              "      <th>A2</th>\n",
              "      <td>0.262071</td>\n",
              "      <td>0.413377</td>\n",
              "      <td>0.384331</td>\n",
              "      <td>0.329404</td>\n",
              "      <td>0.103115</td>\n",
              "      <td>0.022670</td>\n",
              "      <td>0.045173</td>\n",
              "      <td>0.150611</td>\n",
              "      <td>0.199056</td>\n",
              "      <td>0.139857</td>\n",
              "    </tr>\n",
              "    <tr>\n",
              "      <th>A3</th>\n",
              "      <td>0.576557</td>\n",
              "      <td>0.561012</td>\n",
              "      <td>0.403548</td>\n",
              "      <td>0.392751</td>\n",
              "      <td>0.011457</td>\n",
              "      <td>0.124686</td>\n",
              "      <td>0.045173</td>\n",
              "      <td>0.421711</td>\n",
              "      <td>0.126672</td>\n",
              "      <td>0.157339</td>\n",
              "    </tr>\n",
              "    <tr>\n",
              "      <th>A4</th>\n",
              "      <td>0.681385</td>\n",
              "      <td>0.029527</td>\n",
              "      <td>0.461197</td>\n",
              "      <td>0.342074</td>\n",
              "      <td>0.401003</td>\n",
              "      <td>0.068011</td>\n",
              "      <td>0.011293</td>\n",
              "      <td>0.050204</td>\n",
              "      <td>0.036192</td>\n",
              "      <td>0.017482</td>\n",
              "    </tr>\n",
              "  </tbody>\n",
              "</table>\n",
              "</div>"
            ],
            "text/plain": [
              "          c1        c2        c3        c4        c5        c6        c7  \\\n",
              "A1  0.366900  0.442904  0.230599  0.430760  0.103115  0.022670  0.056466   \n",
              "A2  0.262071  0.413377  0.384331  0.329404  0.103115  0.022670  0.045173   \n",
              "A3  0.576557  0.561012  0.403548  0.392751  0.011457  0.124686  0.045173   \n",
              "A4  0.681385  0.029527  0.461197  0.342074  0.401003  0.068011  0.011293   \n",
              "\n",
              "          c8        c9       c10  \n",
              "A1  0.080326  0.361921  0.148598  \n",
              "A2  0.150611  0.199056  0.139857  \n",
              "A3  0.421711  0.126672  0.157339  \n",
              "A4  0.050204  0.036192  0.017482  "
            ]
          },
          "execution_count": 38,
          "metadata": {},
          "output_type": "execute_result"
        }
      ],
      "source": [
        "def normalize(vec, mat):\n",
        "    sizes  = np.shape(mat)\n",
        "    m = sizes[0]\n",
        "    n = sizes[1]\n",
        "    v = np.zeros((m, n))\n",
        "    for j in range(n):\n",
        "        for i in range(m):\n",
        "                v[i][j] = mat[i][j] / vec[j]\n",
        "    return v\n",
        "\n",
        "normalizada = normalize(vector_Normalized,alternatives)\n",
        "pd_norm = pd.DataFrame(data = normalizada,\n",
        "                        index = ['A1','A2', 'A3', 'A4'],\n",
        "                        columns=['c1', 'c2', 'c3', 'c4', 'c5', 'c6', 'c7', 'c8', 'c9', 'c10'])\n",
        "pd_norm\n"
      ]
    },
    {
      "cell_type": "markdown",
      "metadata": {
        "id": "3tHMSTPZyJs7"
      },
      "source": [
        "$Construir\\ la\\ matriz\\ de\\ decisión\\ ponderada $\n",
        "$donde:$\n",
        "\n",
        "$$\\overline{v}_{ij} =v_{ij}\\cdot w_j, \\forall j = 1,2,...,n$$\n",
        "\n",
        "$Donde:$\n",
        "$$\\sum W_j =1$$"
      ]
    },
    {
      "cell_type": "code",
      "execution_count": null,
      "metadata": {
        "id": "xhdNfukzyJs8"
      },
      "outputs": [],
      "source": [
        "w = [0.16080725415783573,\n",
        "0.20565938230877176,\n",
        "0.1785406855161036,\n",
        "0.0321902504032635,\n",
        "0.0289215951779111,\n",
        "0.137201741307777,\n",
        "0.1315644222831187,\n",
        "0.03016823558028442,\n",
        "0.06923148936889213,\n",
        "0.02571494389604221]"
      ]
    },
    {
      "cell_type": "code",
      "execution_count": null,
      "metadata": {
        "id": "D8t0A0HHyJs8",
        "outputId": "a5e3a806-d3b4-48f2-8f87-f3cc27fe8171"
      },
      "outputs": [
        {
          "data": {
            "text/html": [
              "<div>\n",
              "<style scoped>\n",
              "    .dataframe tbody tr th:only-of-type {\n",
              "        vertical-align: middle;\n",
              "    }\n",
              "\n",
              "    .dataframe tbody tr th {\n",
              "        vertical-align: top;\n",
              "    }\n",
              "\n",
              "    .dataframe thead th {\n",
              "        text-align: right;\n",
              "    }\n",
              "</style>\n",
              "<table border=\"1\" class=\"dataframe\">\n",
              "  <thead>\n",
              "    <tr style=\"text-align: right;\">\n",
              "      <th></th>\n",
              "      <th>c1</th>\n",
              "      <th>c2</th>\n",
              "      <th>c3</th>\n",
              "      <th>c4</th>\n",
              "      <th>c5</th>\n",
              "      <th>c6</th>\n",
              "      <th>c7</th>\n",
              "      <th>c8</th>\n",
              "      <th>c9</th>\n",
              "      <th>c10</th>\n",
              "    </tr>\n",
              "  </thead>\n",
              "  <tbody>\n",
              "    <tr>\n",
              "      <th>A1</th>\n",
              "      <td>0.059000</td>\n",
              "      <td>0.091087</td>\n",
              "      <td>0.041171</td>\n",
              "      <td>0.013866</td>\n",
              "      <td>0.002982</td>\n",
              "      <td>0.003110</td>\n",
              "      <td>0.007429</td>\n",
              "      <td>0.002423</td>\n",
              "      <td>0.025056</td>\n",
              "      <td>0.003821</td>\n",
              "    </tr>\n",
              "    <tr>\n",
              "      <th>A2</th>\n",
              "      <td>0.042143</td>\n",
              "      <td>0.085015</td>\n",
              "      <td>0.068619</td>\n",
              "      <td>0.010604</td>\n",
              "      <td>0.002982</td>\n",
              "      <td>0.003110</td>\n",
              "      <td>0.005943</td>\n",
              "      <td>0.004544</td>\n",
              "      <td>0.013781</td>\n",
              "      <td>0.003596</td>\n",
              "    </tr>\n",
              "    <tr>\n",
              "      <th>A3</th>\n",
              "      <td>0.092714</td>\n",
              "      <td>0.115377</td>\n",
              "      <td>0.072050</td>\n",
              "      <td>0.012643</td>\n",
              "      <td>0.000331</td>\n",
              "      <td>0.017107</td>\n",
              "      <td>0.005943</td>\n",
              "      <td>0.012722</td>\n",
              "      <td>0.008770</td>\n",
              "      <td>0.004046</td>\n",
              "    </tr>\n",
              "    <tr>\n",
              "      <th>A4</th>\n",
              "      <td>0.109572</td>\n",
              "      <td>0.006072</td>\n",
              "      <td>0.082343</td>\n",
              "      <td>0.011011</td>\n",
              "      <td>0.011598</td>\n",
              "      <td>0.009331</td>\n",
              "      <td>0.001486</td>\n",
              "      <td>0.001515</td>\n",
              "      <td>0.002506</td>\n",
              "      <td>0.000450</td>\n",
              "    </tr>\n",
              "  </tbody>\n",
              "</table>\n",
              "</div>"
            ],
            "text/plain": [
              "          c1        c2        c3        c4        c5        c6        c7  \\\n",
              "A1  0.059000  0.091087  0.041171  0.013866  0.002982  0.003110  0.007429   \n",
              "A2  0.042143  0.085015  0.068619  0.010604  0.002982  0.003110  0.005943   \n",
              "A3  0.092714  0.115377  0.072050  0.012643  0.000331  0.017107  0.005943   \n",
              "A4  0.109572  0.006072  0.082343  0.011011  0.011598  0.009331  0.001486   \n",
              "\n",
              "          c8        c9       c10  \n",
              "A1  0.002423  0.025056  0.003821  \n",
              "A2  0.004544  0.013781  0.003596  \n",
              "A3  0.012722  0.008770  0.004046  \n",
              "A4  0.001515  0.002506  0.000450  "
            ]
          },
          "execution_count": 40,
          "metadata": {},
          "output_type": "execute_result"
        }
      ],
      "source": [
        "def normalizepesos(vec, mat):\n",
        "    sizes  = np.shape(mat)\n",
        "    m = sizes[0]\n",
        "    n = sizes[1]\n",
        "    v = np.zeros((m, n))\n",
        "    for j in range(n):\n",
        "        for i in range(m):\n",
        "                v[i][j] = mat[i][j] * vec[j]\n",
        "    return v\n",
        "\n",
        "normalizadap = normalizepesos(w,normalizada)\n",
        "pd_normp = pd.DataFrame(data = normalizadap,\n",
        "                        index = ['A1','A2', 'A3', 'A4'],\n",
        "                        columns=['c1', 'c2', 'c3', 'c4', 'c5', 'c6', 'c7', 'c8', 'c9', 'c10'])\n",
        "pd_normp"
      ]
    },
    {
      "cell_type": "markdown",
      "metadata": {
        "id": "-J7Zc2nDyJs9"
      },
      "source": [
        "#### <span style=\"color:Blue\"> Paso 4:\n",
        "\n",
        "#### Solución ideal positiva y negativa\n",
        "$$\\overline{A^+}$$\n",
        "y $$\\overline{A^-}$$"
      ]
    },
    {
      "cell_type": "code",
      "execution_count": null,
      "metadata": {
        "id": "EhdBUgPkyJs-",
        "outputId": "803cd88d-3384-4026-f950-2d9c6db12187"
      },
      "outputs": [
        {
          "data": {
            "text/plain": [
              "matrix([[0.10957167, 0.11537731, 0.08234251, 0.01386626, 0.01159764,\n",
              "         0.01710719, 0.00742887, 0.01272229, 0.0250563 , 0.00404596]])"
            ]
          },
          "execution_count": 41,
          "metadata": {},
          "output_type": "execute_result"
        }
      ],
      "source": [
        "arr = pd_normp.agg(['min', 'max'])\n",
        "ar =np.matrix(arr)\n"
      ]
    },
    {
      "cell_type": "code",
      "execution_count": null,
      "metadata": {
        "id": "frf4fIAcyJs-",
        "outputId": "a1b656f8-600c-43fe-b652-7ab634deafc3"
      },
      "outputs": [
        {
          "data": {
            "text/plain": [
              "[0.10957167,\n",
              " 0.11537731,\n",
              " 0.08234251,\n",
              " 0.01386626,\n",
              " 0.01159764,\n",
              " 0.01710719,\n",
              " 0.00742887,\n",
              " 0.01272229,\n",
              " 0.0250563,\n",
              " 0.00404596]"
            ]
          },
          "execution_count": 42,
          "metadata": {},
          "output_type": "execute_result"
        }
      ],
      "source": [
        "anti = [0.04214295, 0.00607249, 0.04117126, 0.01060361, 0.00033136,\n",
        "        0.0031104 , 0.00148577, 0.00151456, 0.00250563, 0.00044955]\n",
        "ideal = [0.10957167, 0.11537731, 0.08234251, 0.01386626, 0.01159764,\n",
        "        0.01710719, 0.00742887, 0.01272229, 0.0250563 , 0.00404596]\n"
      ]
    },
    {
      "cell_type": "markdown",
      "metadata": {
        "id": "WfyVoPjYyJs_"
      },
      "source": [
        "#### <span style=\"color:Blue\"> Paso 5:\n",
        "\n",
        "#### Cálculo de las medidas de distancia\n",
        "\n",
        "Esto se hace con:\n",
        "$$\\overline{d_i^+}=\\sqrt{\\sum_j(\\overline{v_{ij}}-\\overline{A^+_j})^2}$$\n",
        "para la solución ideal positiva.\n",
        "$$\\overline{d_i^-}=\\sqrt{\\sum_j(\\overline{v_{ij}}-\\overline{A^-_j})^2}$$\n",
        "Para la solución ideal negativa\n"
      ]
    },
    {
      "cell_type": "code",
      "execution_count": null,
      "metadata": {
        "id": "0CbMoQSiyJs_",
        "outputId": "8123ae19-dcf7-47cd-8495-9c6f668b66cd"
      },
      "outputs": [
        {
          "data": {
            "text/plain": [
              "[0.08991890950091466,\n",
              " 0.08460714936087402,\n",
              " 0.12592150449442488,\n",
              " 0.08004685248550991]"
            ]
          },
          "metadata": {},
          "output_type": "display_data"
        },
        {
          "data": {
            "text/plain": [
              "[0.07224132893732456,\n",
              " 0.07832026672531153,\n",
              " 0.028035568064259487,\n",
              " 0.11268788858233325]"
            ]
          },
          "metadata": {},
          "output_type": "display_data"
        }
      ],
      "source": [
        "def dist(mat, vec):\n",
        "    sizes  = np.shape(mat)\n",
        "    m = sizes[0]\n",
        "    dist= [np.sqrt(sum((normalizadap[i,:]-vec)**2)) for i in range(m)]\n",
        "    return dist\n",
        "distIdeal = dist(normalizadap, ideal)\n",
        "distAnti = dist(normalizadap, anti)\n",
        "display(distAnti,distIdeal)\n"
      ]
    },
    {
      "cell_type": "markdown",
      "metadata": {
        "id": "mB3Ky1lfyJtA"
      },
      "source": [
        "#### <span style=\"color:Blue\"> Paso 6 y 7 :\n",
        "\n",
        "#### Calcular la proximidad de cada alternativa a la solución ideal positiva y negativa y ordenarlas de acuerdo a su proximidad relativa\n",
        "Esto se hace con el $Ratio\\ de\\ similaridad$ definido como:\n",
        "$$ \\overline{RS_i}= \\frac{d^-_i}{d^+_i+d^-_i};i=1,2,...,m$$"
      ]
    },
    {
      "cell_type": "code",
      "execution_count": null,
      "metadata": {
        "id": "0c9fcxVTyJtA",
        "outputId": "89a4698d-b624-493e-d913-9448fa485b35"
      },
      "outputs": [
        {
          "data": {
            "text/html": [
              "<div>\n",
              "<style scoped>\n",
              "    .dataframe tbody tr th:only-of-type {\n",
              "        vertical-align: middle;\n",
              "    }\n",
              "\n",
              "    .dataframe tbody tr th {\n",
              "        vertical-align: top;\n",
              "    }\n",
              "\n",
              "    .dataframe thead th {\n",
              "        text-align: right;\n",
              "    }\n",
              "</style>\n",
              "<table border=\"1\" class=\"dataframe\">\n",
              "  <thead>\n",
              "    <tr style=\"text-align: right;\">\n",
              "      <th></th>\n",
              "      <th>Ratio</th>\n",
              "    </tr>\n",
              "  </thead>\n",
              "  <tbody>\n",
              "    <tr>\n",
              "      <th>A3</th>\n",
              "      <td>0.817900</td>\n",
              "    </tr>\n",
              "    <tr>\n",
              "      <th>A1</th>\n",
              "      <td>0.554507</td>\n",
              "    </tr>\n",
              "    <tr>\n",
              "      <th>A2</th>\n",
              "      <td>0.519294</td>\n",
              "    </tr>\n",
              "    <tr>\n",
              "      <th>A4</th>\n",
              "      <td>0.415321</td>\n",
              "    </tr>\n",
              "  </tbody>\n",
              "</table>\n",
              "</div>"
            ],
            "text/plain": [
              "       Ratio\n",
              "A3  0.817900\n",
              "A1  0.554507\n",
              "A2  0.519294\n",
              "A4  0.415321"
            ]
          },
          "execution_count": 44,
          "metadata": {},
          "output_type": "execute_result"
        }
      ],
      "source": [
        "proximidad = [distAnti[i]/(distAnti[i]+distIdeal[i]) for i in range(normalizadap.shape[0])]\n",
        "ratio = pd.DataFrame(proximidad,columns=['Ratio'],index = ['A1','A2', 'A3', 'A4'])\n",
        "RatioSi = ratio.sort_values(by=['Ratio'],ascending=False)\n",
        "RatioSi"
      ]
    },
    {
      "cell_type": "markdown",
      "metadata": {
        "id": "r__NcWZxyJtB"
      },
      "source": [
        "## Norma P =1"
      ]
    },
    {
      "cell_type": "markdown",
      "metadata": {
        "id": "9UuVnm6hyJtB"
      },
      "source": [
        "#### <span style=\"color:Blue\"> Paso 3:\n",
        "\n",
        "$Construir\\ la\\ matriz\\ de\\ decisión\\ $\n",
        "$donde:$\n",
        "La norma para $p=2$\n",
        "$$v_{ij}= \\frac{r_{ij}}{\\sqrt{\\sum_{i=1}^m(r_{ij})^2}}, \\forall j = 1,2,...,n$$"
      ]
    },
    {
      "cell_type": "code",
      "execution_count": null,
      "metadata": {
        "id": "46BEjP7UyJtC",
        "outputId": "5bfb97ef-53d4-4b0d-e9c8-5ba18940effc"
      },
      "outputs": [
        {
          "data": {
            "text/plain": [
              "[36, 85, 162, 280, 334, 355, 369, 439, 519, 572]"
            ]
          },
          "execution_count": 45,
          "metadata": {},
          "output_type": "execute_result"
        }
      ],
      "source": [
        "def vecnorm(mat):\n",
        "    sizes  = np.shape(mat)\n",
        "    m = sizes[0]\n",
        "    n = sizes[1]\n",
        "    v = []\n",
        "    normas = []\n",
        "    for j in range(n):\n",
        "        for i in range(m):\n",
        "            r = abs(mat[i][j])\n",
        "            v.append(r)\n",
        "        vals = sum(v)\n",
        "        normas.append(vals)\n",
        "    return normas\n",
        "vector_Normalized = vecnorm(alternatives)\n",
        "vector_Normalized"
      ]
    },
    {
      "cell_type": "code",
      "execution_count": null,
      "metadata": {
        "id": "MhTCokReyJtD",
        "outputId": "c5a82d05-600f-4fa2-d7b7-d7470ae3de8d"
      },
      "outputs": [
        {
          "data": {
            "text/html": [
              "<div>\n",
              "<style scoped>\n",
              "    .dataframe tbody tr th:only-of-type {\n",
              "        vertical-align: middle;\n",
              "    }\n",
              "\n",
              "    .dataframe tbody tr th {\n",
              "        vertical-align: top;\n",
              "    }\n",
              "\n",
              "    .dataframe thead th {\n",
              "        text-align: right;\n",
              "    }\n",
              "</style>\n",
              "<table border=\"1\" class=\"dataframe\">\n",
              "  <thead>\n",
              "    <tr style=\"text-align: right;\">\n",
              "      <th></th>\n",
              "      <th>c1</th>\n",
              "      <th>c2</th>\n",
              "      <th>c3</th>\n",
              "      <th>c4</th>\n",
              "      <th>c5</th>\n",
              "      <th>c6</th>\n",
              "      <th>c7</th>\n",
              "      <th>c8</th>\n",
              "      <th>c9</th>\n",
              "      <th>c10</th>\n",
              "    </tr>\n",
              "  </thead>\n",
              "  <tbody>\n",
              "    <tr>\n",
              "      <th>A1</th>\n",
              "      <td>0.194444</td>\n",
              "      <td>0.176471</td>\n",
              "      <td>0.074074</td>\n",
              "      <td>0.121429</td>\n",
              "      <td>0.026946</td>\n",
              "      <td>0.005634</td>\n",
              "      <td>0.01355</td>\n",
              "      <td>0.018223</td>\n",
              "      <td>0.077071</td>\n",
              "      <td>0.029720</td>\n",
              "    </tr>\n",
              "    <tr>\n",
              "      <th>A2</th>\n",
              "      <td>0.138889</td>\n",
              "      <td>0.164706</td>\n",
              "      <td>0.123457</td>\n",
              "      <td>0.092857</td>\n",
              "      <td>0.026946</td>\n",
              "      <td>0.005634</td>\n",
              "      <td>0.01084</td>\n",
              "      <td>0.034169</td>\n",
              "      <td>0.042389</td>\n",
              "      <td>0.027972</td>\n",
              "    </tr>\n",
              "    <tr>\n",
              "      <th>A3</th>\n",
              "      <td>0.305556</td>\n",
              "      <td>0.223529</td>\n",
              "      <td>0.129630</td>\n",
              "      <td>0.110714</td>\n",
              "      <td>0.002994</td>\n",
              "      <td>0.030986</td>\n",
              "      <td>0.01084</td>\n",
              "      <td>0.095672</td>\n",
              "      <td>0.026975</td>\n",
              "      <td>0.031469</td>\n",
              "    </tr>\n",
              "    <tr>\n",
              "      <th>A4</th>\n",
              "      <td>0.361111</td>\n",
              "      <td>0.011765</td>\n",
              "      <td>0.148148</td>\n",
              "      <td>0.096429</td>\n",
              "      <td>0.104790</td>\n",
              "      <td>0.016901</td>\n",
              "      <td>0.00271</td>\n",
              "      <td>0.011390</td>\n",
              "      <td>0.007707</td>\n",
              "      <td>0.003497</td>\n",
              "    </tr>\n",
              "  </tbody>\n",
              "</table>\n",
              "</div>"
            ],
            "text/plain": [
              "          c1        c2        c3        c4        c5        c6       c7  \\\n",
              "A1  0.194444  0.176471  0.074074  0.121429  0.026946  0.005634  0.01355   \n",
              "A2  0.138889  0.164706  0.123457  0.092857  0.026946  0.005634  0.01084   \n",
              "A3  0.305556  0.223529  0.129630  0.110714  0.002994  0.030986  0.01084   \n",
              "A4  0.361111  0.011765  0.148148  0.096429  0.104790  0.016901  0.00271   \n",
              "\n",
              "          c8        c9       c10  \n",
              "A1  0.018223  0.077071  0.029720  \n",
              "A2  0.034169  0.042389  0.027972  \n",
              "A3  0.095672  0.026975  0.031469  \n",
              "A4  0.011390  0.007707  0.003497  "
            ]
          },
          "execution_count": 46,
          "metadata": {},
          "output_type": "execute_result"
        }
      ],
      "source": [
        "def normalize(vec, mat):\n",
        "    sizes  = np.shape(mat)\n",
        "    m = sizes[0]\n",
        "    n = sizes[1]\n",
        "    v = np.zeros((m, n))\n",
        "    for j in range(n):\n",
        "        for i in range(m):\n",
        "                v[i][j] = mat[i][j] / vec[j]\n",
        "    return v\n",
        "\n",
        "normalizada = normalize(vector_Normalized,alternatives)\n",
        "pd_norm = pd.DataFrame(data = normalizada,\n",
        "                        index = ['A1','A2', 'A3', 'A4'],\n",
        "                        columns=['c1', 'c2', 'c3', 'c4', 'c5', 'c6', 'c7', 'c8', 'c9', 'c10'])\n",
        "pd_norm"
      ]
    },
    {
      "cell_type": "markdown",
      "metadata": {
        "id": "xzoqtrMMyJtE"
      },
      "source": [
        "#### <span style=\"color:Blue\"> Paso 3:\n",
        "\n",
        "$Construir\\ la\\ matriz\\ de\\ decisión\\ ponderada $\n",
        "$donde:$\n",
        "La norma para $p=2$\n",
        "$$\\overline{v}_{ij} =v_{ij}\\cdot w_j, \\forall j = 1,2,...,n$$\n",
        "\n",
        "$Donde:$\n",
        "$$\\sum W_j =1$$"
      ]
    },
    {
      "cell_type": "code",
      "execution_count": null,
      "metadata": {
        "id": "IJwWzBiyyJtF",
        "outputId": "71b7bc2a-987e-428f-dbec-298fdda7cd35"
      },
      "outputs": [
        {
          "data": {
            "text/html": [
              "<div>\n",
              "<style scoped>\n",
              "    .dataframe tbody tr th:only-of-type {\n",
              "        vertical-align: middle;\n",
              "    }\n",
              "\n",
              "    .dataframe tbody tr th {\n",
              "        vertical-align: top;\n",
              "    }\n",
              "\n",
              "    .dataframe thead th {\n",
              "        text-align: right;\n",
              "    }\n",
              "</style>\n",
              "<table border=\"1\" class=\"dataframe\">\n",
              "  <thead>\n",
              "    <tr style=\"text-align: right;\">\n",
              "      <th></th>\n",
              "      <th>c1</th>\n",
              "      <th>c2</th>\n",
              "      <th>c3</th>\n",
              "      <th>c4</th>\n",
              "      <th>c5</th>\n",
              "      <th>c6</th>\n",
              "      <th>c7</th>\n",
              "      <th>c8</th>\n",
              "      <th>c9</th>\n",
              "      <th>c10</th>\n",
              "    </tr>\n",
              "  </thead>\n",
              "  <tbody>\n",
              "    <tr>\n",
              "      <th>A1</th>\n",
              "      <td>0.031268</td>\n",
              "      <td>0.036293</td>\n",
              "      <td>0.013225</td>\n",
              "      <td>0.003909</td>\n",
              "      <td>0.000779</td>\n",
              "      <td>0.000773</td>\n",
              "      <td>0.001783</td>\n",
              "      <td>0.000550</td>\n",
              "      <td>0.005336</td>\n",
              "      <td>0.000764</td>\n",
              "    </tr>\n",
              "    <tr>\n",
              "      <th>A2</th>\n",
              "      <td>0.022334</td>\n",
              "      <td>0.033873</td>\n",
              "      <td>0.022042</td>\n",
              "      <td>0.002989</td>\n",
              "      <td>0.000779</td>\n",
              "      <td>0.000773</td>\n",
              "      <td>0.001426</td>\n",
              "      <td>0.001031</td>\n",
              "      <td>0.002935</td>\n",
              "      <td>0.000719</td>\n",
              "    </tr>\n",
              "    <tr>\n",
              "      <th>A3</th>\n",
              "      <td>0.049136</td>\n",
              "      <td>0.045971</td>\n",
              "      <td>0.023144</td>\n",
              "      <td>0.003564</td>\n",
              "      <td>0.000087</td>\n",
              "      <td>0.004251</td>\n",
              "      <td>0.001426</td>\n",
              "      <td>0.002886</td>\n",
              "      <td>0.001868</td>\n",
              "      <td>0.000809</td>\n",
              "    </tr>\n",
              "    <tr>\n",
              "      <th>A4</th>\n",
              "      <td>0.058069</td>\n",
              "      <td>0.002420</td>\n",
              "      <td>0.026450</td>\n",
              "      <td>0.003104</td>\n",
              "      <td>0.003031</td>\n",
              "      <td>0.002319</td>\n",
              "      <td>0.000357</td>\n",
              "      <td>0.000344</td>\n",
              "      <td>0.000534</td>\n",
              "      <td>0.000090</td>\n",
              "    </tr>\n",
              "  </tbody>\n",
              "</table>\n",
              "</div>"
            ],
            "text/plain": [
              "          c1        c2        c3        c4        c5        c6        c7  \\\n",
              "A1  0.031268  0.036293  0.013225  0.003909  0.000779  0.000773  0.001783   \n",
              "A2  0.022334  0.033873  0.022042  0.002989  0.000779  0.000773  0.001426   \n",
              "A3  0.049136  0.045971  0.023144  0.003564  0.000087  0.004251  0.001426   \n",
              "A4  0.058069  0.002420  0.026450  0.003104  0.003031  0.002319  0.000357   \n",
              "\n",
              "          c8        c9       c10  \n",
              "A1  0.000550  0.005336  0.000764  \n",
              "A2  0.001031  0.002935  0.000719  \n",
              "A3  0.002886  0.001868  0.000809  \n",
              "A4  0.000344  0.000534  0.000090  "
            ]
          },
          "execution_count": 47,
          "metadata": {},
          "output_type": "execute_result"
        }
      ],
      "source": [
        "def normalizepesos(vec, mat):\n",
        "    sizes  = np.shape(mat)\n",
        "    m = sizes[0]\n",
        "    n = sizes[1]\n",
        "    v = np.zeros((m, n))\n",
        "    for j in range(n):\n",
        "        for i in range(m):\n",
        "                v[i][j] = mat[i][j] * vec[j]\n",
        "    return v\n",
        "\n",
        "normalizadap = normalizepesos(w,normalizada)\n",
        "pd_normp = pd.DataFrame(data = normalizadap,\n",
        "                        index = ['A1','A2', 'A3', 'A4'],\n",
        "                        columns=['c1', 'c2', 'c3', 'c4', 'c5', 'c6', 'c7', 'c8', 'c9', 'c10'])\n",
        "pd_normp"
      ]
    },
    {
      "cell_type": "markdown",
      "metadata": {
        "id": "pZCY3jxLyJtG"
      },
      "source": [
        "#### <span style=\"color:Blue\"> Paso 4:\n",
        "\n",
        "#### Solución ideal positiva y negativa\n",
        "$$\\overline{A^+}$$\n",
        "y $$\\overline{A^-}$$"
      ]
    },
    {
      "cell_type": "code",
      "execution_count": null,
      "metadata": {
        "id": "Gv1UGezzyJtH"
      },
      "outputs": [],
      "source": [
        "arr = pd_normp.agg(['min', 'max'])\n",
        "ar =np.matrix(arr)"
      ]
    },
    {
      "cell_type": "code",
      "execution_count": null,
      "metadata": {
        "id": "q4RgS_ZOyJtH"
      },
      "outputs": [],
      "source": [
        "ideal = np.array([0.05806929, 0.04597092, 0.02645047, 0.00390882, 0.00303071,\n",
        "        0.00425132, 0.00178272, 0.00288625, 0.00533576, 0.00080921])\n",
        "anti = np.array([2.23343409e-02, 2.41952214e-03, 1.32252360e-02, 2.98909468e-03,\n",
        "        8.65916023e-05, 7.72967557e-04, 3.56543150e-04, 3.43601772e-04,\n",
        "        5.33576026e-04, 8.99123912e-05])"
      ]
    },
    {
      "cell_type": "code",
      "execution_count": null,
      "metadata": {
        "id": "laE-J1tlyJtI"
      },
      "outputs": [],
      "source": [
        "def dist(mat, vec):\n",
        "    sizes  = np.shape(mat)\n",
        "    m = sizes[0]\n",
        "    dist= [sum(abs(normalizadap[i,:]-vec)) for i in range(m)]\n",
        "    return dist\n",
        "distIdeal = dist(normalizadap, ideal)\n",
        "distAnti = dist(normalizadap, anti)"
      ]
    },
    {
      "cell_type": "markdown",
      "metadata": {
        "id": "mdnmPOg7yJtI"
      },
      "source": [
        "#### <span style=\"color:Blue\"> Paso 6 y 7 :\n",
        "\n",
        "#### Calcular la proximidad de cada alternativa a la solución ideal positiva y negativa y ordenarlas de acuerdo a su proximidad relativa\n",
        "Esto se hace con el $Ratio\\ de\\ similaridad$ definido como:\n",
        "$$ \\overline{RS_i}= \\frac{d^-_i}{d^+_i+d^-_i};i=1,2,...,m$$"
      ]
    },
    {
      "cell_type": "code",
      "execution_count": null,
      "metadata": {
        "id": "3V2UKFB5yJtI",
        "outputId": "f65c10aa-41f5-4755-985a-4df44bd8fea4"
      },
      "outputs": [
        {
          "data": {
            "text/html": [
              "<div>\n",
              "<style scoped>\n",
              "    .dataframe tbody tr th:only-of-type {\n",
              "        vertical-align: middle;\n",
              "    }\n",
              "\n",
              "    .dataframe tbody tr th {\n",
              "        vertical-align: top;\n",
              "    }\n",
              "\n",
              "    .dataframe thead th {\n",
              "        text-align: right;\n",
              "    }\n",
              "</style>\n",
              "<table border=\"1\" class=\"dataframe\">\n",
              "  <thead>\n",
              "    <tr style=\"text-align: right;\">\n",
              "      <th></th>\n",
              "      <th>Ratio</th>\n",
              "    </tr>\n",
              "  </thead>\n",
              "  <tbody>\n",
              "    <tr>\n",
              "      <th>A3</th>\n",
              "      <td>0.823000</td>\n",
              "    </tr>\n",
              "    <tr>\n",
              "      <th>A4</th>\n",
              "      <td>0.489877</td>\n",
              "    </tr>\n",
              "    <tr>\n",
              "      <th>A1</th>\n",
              "      <td>0.471250</td>\n",
              "    </tr>\n",
              "    <tr>\n",
              "      <th>A2</th>\n",
              "      <td>0.418410</td>\n",
              "    </tr>\n",
              "  </tbody>\n",
              "</table>\n",
              "</div>"
            ],
            "text/plain": [
              "       Ratio\n",
              "A3  0.823000\n",
              "A4  0.489877\n",
              "A1  0.471250\n",
              "A2  0.418410"
            ]
          },
          "execution_count": 56,
          "metadata": {},
          "output_type": "execute_result"
        }
      ],
      "source": [
        "proximidad = [distAnti[i]/(distAnti[i]+distIdeal[i]) for i in range(normalizadap.shape[0])]\n",
        "ratio = pd.DataFrame(proximidad,columns=['Ratio'],index = ['A1','A2', 'A3', 'A4'])\n",
        "RatioSi = ratio.sort_values(by=['Ratio'],ascending=False)\n",
        "RatioSi"
      ]
    },
    {
      "cell_type": "markdown",
      "metadata": {
        "id": "xOCtNLjnyJtJ"
      },
      "source": [
        "### P = infinito\n"
      ]
    },
    {
      "cell_type": "markdown",
      "metadata": {
        "id": "YR4P5c2EyJtJ"
      },
      "source": [
        "#### <span style=\"color:Blue\"> Paso 3:\n",
        "\n",
        "$Construir\\ la\\ matriz\\ de\\ decisión\\ $\n",
        "$donde:$\n",
        "La norma para $p=2$\n",
        "$$v_{ij}= \\frac{r_{ij}}{max_{i=1}^m|(r_{ij})|}, \\forall j = 1,2,...,n$$"
      ]
    },
    {
      "cell_type": "code",
      "execution_count": null,
      "metadata": {
        "id": "G1m7fsJ7yJtK",
        "outputId": "07196790-9251-4019-c37a-7ece525253be"
      },
      "outputs": [
        {
          "data": {
            "text/plain": [
              "[13, 19, 24, 34, 35, 35, 35, 42, 42, 42]"
            ]
          },
          "execution_count": 59,
          "metadata": {},
          "output_type": "execute_result"
        }
      ],
      "source": [
        "def vecnorm(mat):\n",
        "    sizes  = np.shape(mat)\n",
        "    m = sizes[0]\n",
        "    n = sizes[1]\n",
        "    v = []\n",
        "    normas = []\n",
        "    for j in range(n):\n",
        "        for i in range(m):\n",
        "            r = abs(mat[i][j])\n",
        "            v.append(r)\n",
        "        vals = max(v)\n",
        "        normas.append(vals)\n",
        "    return normas\n",
        "vector_Normalized = vecnorm(alternatives)\n",
        "vector_Normalized"
      ]
    },
    {
      "cell_type": "code",
      "execution_count": null,
      "metadata": {
        "id": "35MnMeAkyJtK",
        "outputId": "1f69a0f0-3d2e-4102-b766-713a54fde46f"
      },
      "outputs": [
        {
          "data": {
            "text/html": [
              "<div>\n",
              "<style scoped>\n",
              "    .dataframe tbody tr th:only-of-type {\n",
              "        vertical-align: middle;\n",
              "    }\n",
              "\n",
              "    .dataframe tbody tr th {\n",
              "        vertical-align: top;\n",
              "    }\n",
              "\n",
              "    .dataframe thead th {\n",
              "        text-align: right;\n",
              "    }\n",
              "</style>\n",
              "<table border=\"1\" class=\"dataframe\">\n",
              "  <thead>\n",
              "    <tr style=\"text-align: right;\">\n",
              "      <th></th>\n",
              "      <th>c1</th>\n",
              "      <th>c2</th>\n",
              "      <th>c3</th>\n",
              "      <th>c4</th>\n",
              "      <th>c5</th>\n",
              "      <th>c6</th>\n",
              "      <th>c7</th>\n",
              "      <th>c8</th>\n",
              "      <th>c9</th>\n",
              "      <th>c10</th>\n",
              "    </tr>\n",
              "  </thead>\n",
              "  <tbody>\n",
              "    <tr>\n",
              "      <th>A1</th>\n",
              "      <td>0.538462</td>\n",
              "      <td>0.789474</td>\n",
              "      <td>0.500000</td>\n",
              "      <td>1.000000</td>\n",
              "      <td>0.257143</td>\n",
              "      <td>0.057143</td>\n",
              "      <td>0.142857</td>\n",
              "      <td>0.190476</td>\n",
              "      <td>0.952381</td>\n",
              "      <td>0.404762</td>\n",
              "    </tr>\n",
              "    <tr>\n",
              "      <th>A2</th>\n",
              "      <td>0.384615</td>\n",
              "      <td>0.736842</td>\n",
              "      <td>0.833333</td>\n",
              "      <td>0.764706</td>\n",
              "      <td>0.257143</td>\n",
              "      <td>0.057143</td>\n",
              "      <td>0.114286</td>\n",
              "      <td>0.357143</td>\n",
              "      <td>0.523810</td>\n",
              "      <td>0.380952</td>\n",
              "    </tr>\n",
              "    <tr>\n",
              "      <th>A3</th>\n",
              "      <td>0.846154</td>\n",
              "      <td>1.000000</td>\n",
              "      <td>0.875000</td>\n",
              "      <td>0.911765</td>\n",
              "      <td>0.028571</td>\n",
              "      <td>0.314286</td>\n",
              "      <td>0.114286</td>\n",
              "      <td>1.000000</td>\n",
              "      <td>0.333333</td>\n",
              "      <td>0.428571</td>\n",
              "    </tr>\n",
              "    <tr>\n",
              "      <th>A4</th>\n",
              "      <td>1.000000</td>\n",
              "      <td>0.052632</td>\n",
              "      <td>1.000000</td>\n",
              "      <td>0.794118</td>\n",
              "      <td>1.000000</td>\n",
              "      <td>0.171429</td>\n",
              "      <td>0.028571</td>\n",
              "      <td>0.119048</td>\n",
              "      <td>0.095238</td>\n",
              "      <td>0.047619</td>\n",
              "    </tr>\n",
              "  </tbody>\n",
              "</table>\n",
              "</div>"
            ],
            "text/plain": [
              "          c1        c2        c3        c4        c5        c6        c7  \\\n",
              "A1  0.538462  0.789474  0.500000  1.000000  0.257143  0.057143  0.142857   \n",
              "A2  0.384615  0.736842  0.833333  0.764706  0.257143  0.057143  0.114286   \n",
              "A3  0.846154  1.000000  0.875000  0.911765  0.028571  0.314286  0.114286   \n",
              "A4  1.000000  0.052632  1.000000  0.794118  1.000000  0.171429  0.028571   \n",
              "\n",
              "          c8        c9       c10  \n",
              "A1  0.190476  0.952381  0.404762  \n",
              "A2  0.357143  0.523810  0.380952  \n",
              "A3  1.000000  0.333333  0.428571  \n",
              "A4  0.119048  0.095238  0.047619  "
            ]
          },
          "execution_count": 60,
          "metadata": {},
          "output_type": "execute_result"
        }
      ],
      "source": [
        "def normalize(vec, mat):\n",
        "    sizes  = np.shape(mat)\n",
        "    m = sizes[0]\n",
        "    n = sizes[1]\n",
        "    v = np.zeros((m, n))\n",
        "    for j in range(n):\n",
        "        for i in range(m):\n",
        "                v[i][j] = mat[i][j] / vec[j]\n",
        "    return v\n",
        "\n",
        "normalizada = normalize(vector_Normalized,alternatives)\n",
        "pd_norm = pd.DataFrame(data = normalizada,\n",
        "                        index = ['A1','A2', 'A3', 'A4'],\n",
        "                        columns=['c1', 'c2', 'c3', 'c4', 'c5', 'c6', 'c7', 'c8', 'c9', 'c10'])\n",
        "pd_norm"
      ]
    },
    {
      "cell_type": "markdown",
      "metadata": {
        "id": "-shlLjAWyJtL"
      },
      "source": [
        "#### <span style=\"color:Blue\"> Paso 3:\n",
        "\n",
        "$Construir\\ la\\ matriz\\ de\\ decisión\\ ponderada $\n",
        "$donde:$\n",
        "La norma para $p=2$\n",
        "$$\\overline{v}_{ij} =v_{ij}\\cdot w_j, \\forall j = 1,2,...,n$$\n",
        "\n",
        "$Donde:$\n",
        "$$\\sum W_j =1$$"
      ]
    },
    {
      "cell_type": "code",
      "execution_count": null,
      "metadata": {
        "id": "u_1PD-MTyJtL",
        "outputId": "7465b53e-9ad2-41a8-9542-e5de7e37e2f1"
      },
      "outputs": [
        {
          "data": {
            "text/html": [
              "<div>\n",
              "<style scoped>\n",
              "    .dataframe tbody tr th:only-of-type {\n",
              "        vertical-align: middle;\n",
              "    }\n",
              "\n",
              "    .dataframe tbody tr th {\n",
              "        vertical-align: top;\n",
              "    }\n",
              "\n",
              "    .dataframe thead th {\n",
              "        text-align: right;\n",
              "    }\n",
              "</style>\n",
              "<table border=\"1\" class=\"dataframe\">\n",
              "  <thead>\n",
              "    <tr style=\"text-align: right;\">\n",
              "      <th></th>\n",
              "      <th>c1</th>\n",
              "      <th>c2</th>\n",
              "      <th>c3</th>\n",
              "      <th>c4</th>\n",
              "      <th>c5</th>\n",
              "      <th>c6</th>\n",
              "      <th>c7</th>\n",
              "      <th>c8</th>\n",
              "      <th>c9</th>\n",
              "      <th>c10</th>\n",
              "    </tr>\n",
              "  </thead>\n",
              "  <tbody>\n",
              "    <tr>\n",
              "      <th>A1</th>\n",
              "      <td>0.086589</td>\n",
              "      <td>0.162363</td>\n",
              "      <td>0.089270</td>\n",
              "      <td>0.032190</td>\n",
              "      <td>0.007437</td>\n",
              "      <td>0.007840</td>\n",
              "      <td>0.018795</td>\n",
              "      <td>0.005746</td>\n",
              "      <td>0.065935</td>\n",
              "      <td>0.010408</td>\n",
              "    </tr>\n",
              "    <tr>\n",
              "      <th>A2</th>\n",
              "      <td>0.061849</td>\n",
              "      <td>0.151538</td>\n",
              "      <td>0.148784</td>\n",
              "      <td>0.024616</td>\n",
              "      <td>0.007437</td>\n",
              "      <td>0.007840</td>\n",
              "      <td>0.015036</td>\n",
              "      <td>0.010774</td>\n",
              "      <td>0.036264</td>\n",
              "      <td>0.009796</td>\n",
              "    </tr>\n",
              "    <tr>\n",
              "      <th>A3</th>\n",
              "      <td>0.136068</td>\n",
              "      <td>0.205659</td>\n",
              "      <td>0.156223</td>\n",
              "      <td>0.029350</td>\n",
              "      <td>0.000826</td>\n",
              "      <td>0.043121</td>\n",
              "      <td>0.015036</td>\n",
              "      <td>0.030168</td>\n",
              "      <td>0.023077</td>\n",
              "      <td>0.011021</td>\n",
              "    </tr>\n",
              "    <tr>\n",
              "      <th>A4</th>\n",
              "      <td>0.160807</td>\n",
              "      <td>0.010824</td>\n",
              "      <td>0.178541</td>\n",
              "      <td>0.025563</td>\n",
              "      <td>0.028922</td>\n",
              "      <td>0.023520</td>\n",
              "      <td>0.003759</td>\n",
              "      <td>0.003591</td>\n",
              "      <td>0.006593</td>\n",
              "      <td>0.001225</td>\n",
              "    </tr>\n",
              "  </tbody>\n",
              "</table>\n",
              "</div>"
            ],
            "text/plain": [
              "          c1        c2        c3        c4        c5        c6        c7  \\\n",
              "A1  0.086589  0.162363  0.089270  0.032190  0.007437  0.007840  0.018795   \n",
              "A2  0.061849  0.151538  0.148784  0.024616  0.007437  0.007840  0.015036   \n",
              "A3  0.136068  0.205659  0.156223  0.029350  0.000826  0.043121  0.015036   \n",
              "A4  0.160807  0.010824  0.178541  0.025563  0.028922  0.023520  0.003759   \n",
              "\n",
              "          c8        c9       c10  \n",
              "A1  0.005746  0.065935  0.010408  \n",
              "A2  0.010774  0.036264  0.009796  \n",
              "A3  0.030168  0.023077  0.011021  \n",
              "A4  0.003591  0.006593  0.001225  "
            ]
          },
          "execution_count": 61,
          "metadata": {},
          "output_type": "execute_result"
        }
      ],
      "source": [
        "def normalizepesos(vec, mat):\n",
        "    sizes  = np.shape(mat)\n",
        "    m = sizes[0]\n",
        "    n = sizes[1]\n",
        "    v = np.zeros((m, n))\n",
        "    for j in range(n):\n",
        "        for i in range(m):\n",
        "                v[i][j] = mat[i][j] * vec[j]\n",
        "    return v\n",
        "\n",
        "normalizadap = normalizepesos(w,normalizada)\n",
        "pd_normp = pd.DataFrame(data = normalizadap,\n",
        "                        index = ['A1','A2', 'A3', 'A4'],\n",
        "                        columns=['c1', 'c2', 'c3', 'c4', 'c5', 'c6', 'c7', 'c8', 'c9', 'c10'])\n",
        "pd_normp"
      ]
    },
    {
      "cell_type": "markdown",
      "metadata": {
        "id": "RLiKGlyMyJtM"
      },
      "source": [
        "#### <span style=\"color:Blue\"> Paso 4:\n",
        "\n",
        "#### Solución ideal positiva y negativa\n",
        "$$\\overline{A^+}$$\n",
        "y $$\\overline{A^-}$$"
      ]
    },
    {
      "cell_type": "code",
      "execution_count": null,
      "metadata": {
        "id": "rZPgVpJmyJtM",
        "outputId": "e5b2abd0-d2e8-4300-e3cf-626154a901c9"
      },
      "outputs": [
        {
          "data": {
            "text/html": [
              "<div>\n",
              "<style scoped>\n",
              "    .dataframe tbody tr th:only-of-type {\n",
              "        vertical-align: middle;\n",
              "    }\n",
              "\n",
              "    .dataframe tbody tr th {\n",
              "        vertical-align: top;\n",
              "    }\n",
              "\n",
              "    .dataframe thead th {\n",
              "        text-align: right;\n",
              "    }\n",
              "</style>\n",
              "<table border=\"1\" class=\"dataframe\">\n",
              "  <thead>\n",
              "    <tr style=\"text-align: right;\">\n",
              "      <th></th>\n",
              "      <th>c1</th>\n",
              "      <th>c2</th>\n",
              "      <th>c3</th>\n",
              "      <th>c4</th>\n",
              "      <th>c5</th>\n",
              "      <th>c6</th>\n",
              "      <th>c7</th>\n",
              "      <th>c8</th>\n",
              "      <th>c9</th>\n",
              "      <th>c10</th>\n",
              "    </tr>\n",
              "  </thead>\n",
              "  <tbody>\n",
              "    <tr>\n",
              "      <th>min</th>\n",
              "      <td>0.061849</td>\n",
              "      <td>0.010824</td>\n",
              "      <td>0.089270</td>\n",
              "      <td>0.024616</td>\n",
              "      <td>0.000826</td>\n",
              "      <td>0.007840</td>\n",
              "      <td>0.003759</td>\n",
              "      <td>0.003591</td>\n",
              "      <td>0.006593</td>\n",
              "      <td>0.001225</td>\n",
              "    </tr>\n",
              "    <tr>\n",
              "      <th>max</th>\n",
              "      <td>0.160807</td>\n",
              "      <td>0.205659</td>\n",
              "      <td>0.178541</td>\n",
              "      <td>0.032190</td>\n",
              "      <td>0.028922</td>\n",
              "      <td>0.043121</td>\n",
              "      <td>0.018795</td>\n",
              "      <td>0.030168</td>\n",
              "      <td>0.065935</td>\n",
              "      <td>0.011021</td>\n",
              "    </tr>\n",
              "  </tbody>\n",
              "</table>\n",
              "</div>"
            ],
            "text/plain": [
              "           c1        c2        c3        c4        c5        c6        c7  \\\n",
              "min  0.061849  0.010824  0.089270  0.024616  0.000826  0.007840  0.003759   \n",
              "max  0.160807  0.205659  0.178541  0.032190  0.028922  0.043121  0.018795   \n",
              "\n",
              "           c8        c9       c10  \n",
              "min  0.003591  0.006593  0.001225  \n",
              "max  0.030168  0.065935  0.011021  "
            ]
          },
          "execution_count": 70,
          "metadata": {},
          "output_type": "execute_result"
        }
      ],
      "source": [
        "arr = pd_normp.agg(['min', 'max'])\n",
        "ar =np.matrix(arr)\n",
        "arr"
      ]
    },
    {
      "cell_type": "code",
      "execution_count": null,
      "metadata": {
        "id": "E-kVpl6ryJtN"
      },
      "outputs": [],
      "source": [
        "ideal = [0.16080725, 0.20565938, 0.17854069, 0.03219025, 0.0289216 ,\n",
        "        0.04312055, 0.01879492, 0.03016824, 0.06593475, 0.01102069]\n",
        "anti = [0.06184894, 0.01082418, 0.08927034, 0.02461607, 0.00082633,\n",
        "        0.0078401 , 0.00375898, 0.00359146, 0.00659348, 0.00122452]"
      ]
    },
    {
      "cell_type": "code",
      "execution_count": null,
      "metadata": {
        "id": "dIzg_H-kyJtN"
      },
      "outputs": [],
      "source": [
        "def dist(mat, vec):\n",
        "    sizes  = np.shape(mat)\n",
        "    m = sizes[0]\n",
        "    dist= [max(abs(normalizadap[i,:]-vec)) for i in range(m)]\n",
        "    return dist\n",
        "distIdeal = dist(normalizadap, ideal)\n",
        "distAnti = dist(normalizadap, anti)"
      ]
    },
    {
      "cell_type": "markdown",
      "metadata": {
        "id": "5VkeGXBEyJtN"
      },
      "source": [
        "#### <span style=\"color:Blue\"> Paso 6 y 7 :\n",
        "\n",
        "#### Calcular la proximidad de cada alternativa a la solución ideal positiva y negativa y ordenarlas de acuerdo a su proximidad relativa\n",
        "Esto se hace con el $Ratio\\ de\\ similaridad$ definido como:\n",
        "$$ \\overline{RS_i}= \\frac{d^-_i}{d^+_i+d^-_i};i=1,2,...,m$$"
      ]
    },
    {
      "cell_type": "code",
      "execution_count": null,
      "metadata": {
        "id": "wH4eePG0yJtN",
        "outputId": "344f39f0-8283-4c1e-cc65-3a7531075609"
      },
      "outputs": [
        {
          "data": {
            "text/html": [
              "<div>\n",
              "<style scoped>\n",
              "    .dataframe tbody tr th:only-of-type {\n",
              "        vertical-align: middle;\n",
              "    }\n",
              "\n",
              "    .dataframe tbody tr th {\n",
              "        vertical-align: top;\n",
              "    }\n",
              "\n",
              "    .dataframe thead th {\n",
              "        text-align: right;\n",
              "    }\n",
              "</style>\n",
              "<table border=\"1\" class=\"dataframe\">\n",
              "  <thead>\n",
              "    <tr style=\"text-align: right;\">\n",
              "      <th></th>\n",
              "      <th>Ratio</th>\n",
              "    </tr>\n",
              "  </thead>\n",
              "  <tbody>\n",
              "    <tr>\n",
              "      <th>A1</th>\n",
              "      <td>0.578802</td>\n",
              "    </tr>\n",
              "    <tr>\n",
              "      <th>A3</th>\n",
              "      <td>0.560000</td>\n",
              "    </tr>\n",
              "    <tr>\n",
              "      <th>A2</th>\n",
              "      <td>0.549337</td>\n",
              "    </tr>\n",
              "    <tr>\n",
              "      <th>A4</th>\n",
              "      <td>0.520833</td>\n",
              "    </tr>\n",
              "  </tbody>\n",
              "</table>\n",
              "</div>"
            ],
            "text/plain": [
              "       Ratio\n",
              "A1  0.578802\n",
              "A3  0.560000\n",
              "A2  0.549337\n",
              "A4  0.520833"
            ]
          },
          "execution_count": 67,
          "metadata": {},
          "output_type": "execute_result"
        }
      ],
      "source": [
        "proximidad = [distAnti[i]/(distAnti[i]+distIdeal[i]) for i in range(normalizadap.shape[0])]\n",
        "ratio = pd.DataFrame(proximidad,columns=['Ratio'],index = ['A1','A2', 'A3', 'A4'])\n",
        "RatioSi = ratio.sort_values(by=['Ratio'],ascending=False)\n",
        "RatioSi"
      ]
    }
  ],
  "metadata": {
    "kernelspec": {
      "display_name": "Python 3",
      "language": "python",
      "name": "python3"
    },
    "language_info": {
      "codemirror_mode": {
        "name": "ipython",
        "version": 3
      },
      "file_extension": ".py",
      "mimetype": "text/x-python",
      "name": "python",
      "nbconvert_exporter": "python",
      "pygments_lexer": "ipython3",
      "version": "3.9.13"
    },
    "orig_nbformat": 4,
    "colab": {
      "provenance": [],
      "include_colab_link": true
    }
  },
  "nbformat": 4,
  "nbformat_minor": 0
}
